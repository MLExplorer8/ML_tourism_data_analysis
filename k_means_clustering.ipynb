{
 "cells": [
  {
   "cell_type": "code",
   "execution_count": 42,
   "id": "34719209",
   "metadata": {},
   "outputs": [],
   "source": [
    "import pandas as pd\n",
    "from sklearn.preprocessing import StandardScaler\n",
    "from sklearn.cluster import KMeans\n",
    "import joblib"
   ]
  },
  {
   "cell_type": "code",
   "execution_count": 43,
   "id": "f2c5ee32",
   "metadata": {},
   "outputs": [],
   "source": [
    "# Load your dataset\n",
    "df = pd.read_excel(\"df_for_km.xlsx\")"
   ]
  },
  {
   "cell_type": "code",
   "execution_count": 44,
   "id": "3ba0014d",
   "metadata": {},
   "outputs": [],
   "source": [
    "# Step 1: Select required features\n",
    "selected_cols = [\n",
    "    'VisitYear', 'VisitMonth', 'VisitMode', 'Attraction',\n",
    "    'Continent', 'Region', 'Country', 'CityName', 'Rating'\n",
    "]\n"
   ]
  },
  {
   "cell_type": "code",
   "execution_count": 45,
   "id": "39f5b600",
   "metadata": {},
   "outputs": [],
   "source": [
    "\n",
    "# Step 2: Drop rows with missing values in selected columns\n",
    "df_clean = df.dropna(subset=selected_cols)"
   ]
  },
  {
   "cell_type": "code",
   "execution_count": 46,
   "id": "f07f0ecb",
   "metadata": {},
   "outputs": [],
   "source": [
    "# Step 3: Encode categorical variables\n",
    "df_encoded = pd.get_dummies(df_clean[selected_cols], drop_first=True)"
   ]
  },
  {
   "cell_type": "code",
   "execution_count": 47,
   "id": "571633b4",
   "metadata": {},
   "outputs": [],
   "source": [
    "# Step 4: Scale numerical values\n",
    "scaler = StandardScaler()\n",
    "df_scaled = scaler.fit_transform(df_encoded)"
   ]
  },
  {
   "cell_type": "code",
   "execution_count": 48,
   "id": "2b98fd3b",
   "metadata": {},
   "outputs": [],
   "source": [
    "# Step 5: Train KMeans\n",
    "k = 5  # You can change based on elbow method\n",
    "kmeans = KMeans(n_clusters=k, random_state=42, n_init=10)\n",
    "df_clean['Cluster'] = kmeans.fit_predict(df_scaled)"
   ]
  },
  {
   "cell_type": "code",
   "execution_count": 49,
   "id": "a3f73157",
   "metadata": {},
   "outputs": [
    {
     "name": "stdout",
     "output_type": "stream",
     "text": [
      "✅ Model, scaler, and labeled data saved.\n"
     ]
    }
   ],
   "source": [
    "# Step 6: Save everything\n",
    "joblib.dump(kmeans, \"kmeans_cluster_model.pkl\")\n",
    "joblib.dump(scaler, \"kmeans_scaler.pkl\")\n",
    "df_clean.to_excel(\"df_with_kmeans_clusters.xlsx\", index=False)\n",
    "\n",
    "print(\"✅ Model, scaler, and labeled data saved.\")\n"
   ]
  }
 ],
 "metadata": {
  "kernelspec": {
   "display_name": ".venv (3.12.3)",
   "language": "python",
   "name": "python3"
  },
  "language_info": {
   "codemirror_mode": {
    "name": "ipython",
    "version": 3
   },
   "file_extension": ".py",
   "mimetype": "text/x-python",
   "name": "python",
   "nbconvert_exporter": "python",
   "pygments_lexer": "ipython3",
   "version": "3.12.3"
  }
 },
 "nbformat": 4,
 "nbformat_minor": 5
}
